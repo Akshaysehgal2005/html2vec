{
 "cells": [
  {
   "cell_type": "code",
   "execution_count": 5,
   "metadata": {},
   "outputs": [],
   "source": [
    "import sys\n",
    "import typing\n",
    "\n",
    "import spacy\n",
    "import numpy as np\n",
    "import lxml.etree\n",
    "import requests\n",
    "\n",
    "# python -m spacy download en_core_web_md\n",
    "english: spacy.lang.en.English = spacy.load(\"en_core_web_md\")\n",
    "\n",
    "\n",
    "class Node:\n",
    "    def __init__(self) -> None:\n",
    "        self.xpath: str = '/'\n",
    "        self.element: lxml.etree._Element = lxml.etree._Element()\n",
    "        self.vector: typing.Optional[np.array] = None\n",
    "        self.position: int = 0\n",
    "\n",
    "    def __repr__(self) -> str:\n",
    "        return \"<Node: {}>\".format(self.element)\n",
    "\n",
    "    def get_parent(self) -> typing.Optional[lxml.etree._Element]:\n",
    "        return self.element.getparent()\n",
    "\n",
    "    def get_children(self) -> typing.Generator[lxml.etree._Element, None, None]:\n",
    "        yield from self.element\n",
    "\n",
    "    def __get_tag(self) -> str:\n",
    "        return self.element.tag\n",
    "\n",
    "    def __get_text(self) -> str:\n",
    "        return ' '.join([\n",
    "            self.element.text or '',\n",
    "            self.element.tag or '',\n",
    "        ]).strip()\n",
    "\n",
    "    def __get_attributes(self) -> dict:\n",
    "        return self.element.attrib\n",
    "\n",
    "    def get_shape(self) -> tuple:\n",
    "        return (5, 300)\n",
    "\n",
    "    def get_vector(self) -> np.array:\n",
    "        if self.vector is None:\n",
    "            tag: str = self.__get_tag()\n",
    "            text: str = self.__get_text()\n",
    "            x1: np.array = english(tag).vector\n",
    "            x2: np.array = english(text).vector\n",
    "            x3: np.array = np.zeros(x1.shape)\n",
    "            x4: np.array = np.array([self.position, ] * self.get_shape()[1])\n",
    "            x5: np.array = english(' '.join([\n",
    "                name.split('[')[0]\n",
    "                for name in self.xpath.split('/')\n",
    "            ])).vector\n",
    "            for key, value in self.__get_attributes().items():\n",
    "                x3 += english(tag).vector * english(value).vector\n",
    "            self.vector: np.array = np.array([\n",
    "                x1,  # Tag type.\n",
    "                x2,  # Text vector.\n",
    "                x3,  # Numeric representation of attributes.\n",
    "                x4,  # Indicator of vertical position.\n",
    "                x5,  # Numeric representation of xpath.\n",
    "            ])\n",
    "            assert self.vector.shape == self.get_shape()\n",
    "        return self.vector\n",
    "\n",
    "    def __add__(self, node: 'Node') -> 'Node':\n",
    "        assert isinstance(node, self.__class__)\n",
    "        self.vector = self.get_vector() + node.get_vector()\n",
    "        return self\n",
    "\n",
    "\n",
    "class Html2Vec:\n",
    "    def __init__(self) -> None:\n",
    "        self.relatives: int = 5\n",
    "\n",
    "    def __repr__(self) -> str:\n",
    "        return \"<Model: {}>\".format(self.__class__.__name__)\n",
    "\n",
    "    def fit(self, text: str) -> typing.Generator[Node, None, None]:\n",
    "        assert isinstance(text, str)\n",
    "        assert text\n",
    "        html: lxml.etree.HTML = lxml.etree.HTML(text)\n",
    "        root: lxml.etree._ElementTree = html.getroottree()\n",
    "        total_nodes: int = len(root.xpath(\".//*\"))\n",
    "        index: dict = {}\n",
    "        for i, element in enumerate(html.iter()):\n",
    "            xpath: str = root.getpath(element)\n",
    "            node: Node = Node()\n",
    "            node.position = i / total_nodes\n",
    "            node.element = element\n",
    "            node.xpath = xpath\n",
    "            index[xpath] = node\n",
    "        for level in range(self.relatives):\n",
    "            for node in index.values():\n",
    "                if node.get_parent() is not None:\n",
    "                    xpath: str = root.getpath(node.get_parent())\n",
    "                    parent: Node = index[xpath]\n",
    "                    node += parent\n",
    "                for element in node.get_children():\n",
    "                    xpath: str = root.getpath(element)\n",
    "                    child: Node = index[xpath]\n",
    "                    node += child\n",
    "        yield from index.values()"
   ]
  },
  {
   "cell_type": "code",
   "execution_count": 7,
   "metadata": {},
   "outputs": [],
   "source": [
    "url = \"https://investors.3m.com/governance/corporate-officers/default.aspx\""
   ]
  },
  {
   "cell_type": "code",
   "execution_count": 12,
   "metadata": {},
   "outputs": [],
   "source": [
    "html = requests.get(url).text"
   ]
  },
  {
   "cell_type": "code",
   "execution_count": null,
   "metadata": {},
   "outputs": [],
   "source": [
    "requests.Response = requests.get(url)"
   ]
  },
  {
   "cell_type": "code",
   "execution_count": 13,
   "metadata": {},
   "outputs": [
    {
     "ename": "TypeError",
     "evalue": "sequence item 1: expected str instance, cython_function_or_method found",
     "output_type": "error",
     "traceback": [
      "\u001b[1;31m---------------------------------------------------------------------------\u001b[0m",
      "\u001b[1;31mTypeError\u001b[0m                                 Traceback (most recent call last)",
      "\u001b[1;32m<ipython-input-13-96fca692aa5d>\u001b[0m in \u001b[0;36m<module>\u001b[1;34m\u001b[0m\n\u001b[0;32m      1\u001b[0m \u001b[0mmodel\u001b[0m \u001b[1;33m=\u001b[0m \u001b[0mHtml2Vec\u001b[0m\u001b[1;33m(\u001b[0m\u001b[1;33m)\u001b[0m\u001b[1;33m\u001b[0m\u001b[1;33m\u001b[0m\u001b[0m\n\u001b[0;32m      2\u001b[0m \u001b[0mmodel\u001b[0m\u001b[1;33m.\u001b[0m\u001b[0mrelatives\u001b[0m \u001b[1;33m=\u001b[0m \u001b[1;36m5\u001b[0m\u001b[1;33m\u001b[0m\u001b[1;33m\u001b[0m\u001b[0m\n\u001b[1;32m----> 3\u001b[1;33m \u001b[1;32mfor\u001b[0m \u001b[0mnode\u001b[0m \u001b[1;32min\u001b[0m \u001b[0mmodel\u001b[0m\u001b[1;33m.\u001b[0m\u001b[0mfit\u001b[0m\u001b[1;33m(\u001b[0m\u001b[0mhtml\u001b[0m\u001b[1;33m)\u001b[0m\u001b[1;33m:\u001b[0m\u001b[1;33m\u001b[0m\u001b[1;33m\u001b[0m\u001b[0m\n\u001b[0m\u001b[0;32m      4\u001b[0m     \u001b[0mprint\u001b[0m\u001b[1;33m(\u001b[0m\u001b[0mnode\u001b[0m\u001b[1;33m)\u001b[0m\u001b[1;33m\u001b[0m\u001b[1;33m\u001b[0m\u001b[0m\n\u001b[0;32m      5\u001b[0m     \u001b[0mprint\u001b[0m\u001b[1;33m(\u001b[0m\u001b[0mnode\u001b[0m\u001b[1;33m.\u001b[0m\u001b[0mget_vector\u001b[0m\u001b[1;33m(\u001b[0m\u001b[1;33m)\u001b[0m\u001b[1;33m)\u001b[0m\u001b[1;33m\u001b[0m\u001b[1;33m\u001b[0m\u001b[0m\n",
      "\u001b[1;32m<ipython-input-5-69805f3e1500>\u001b[0m in \u001b[0;36mfit\u001b[1;34m(self, text)\u001b[0m\n\u001b[0;32m    102\u001b[0m                     \u001b[0mxpath\u001b[0m\u001b[1;33m:\u001b[0m \u001b[0mstr\u001b[0m \u001b[1;33m=\u001b[0m \u001b[0mroot\u001b[0m\u001b[1;33m.\u001b[0m\u001b[0mgetpath\u001b[0m\u001b[1;33m(\u001b[0m\u001b[0melement\u001b[0m\u001b[1;33m)\u001b[0m\u001b[1;33m\u001b[0m\u001b[1;33m\u001b[0m\u001b[0m\n\u001b[0;32m    103\u001b[0m                     \u001b[0mchild\u001b[0m\u001b[1;33m:\u001b[0m \u001b[0mNode\u001b[0m \u001b[1;33m=\u001b[0m \u001b[0mindex\u001b[0m\u001b[1;33m[\u001b[0m\u001b[0mxpath\u001b[0m\u001b[1;33m]\u001b[0m\u001b[1;33m\u001b[0m\u001b[1;33m\u001b[0m\u001b[0m\n\u001b[1;32m--> 104\u001b[1;33m                     \u001b[0mnode\u001b[0m \u001b[1;33m+=\u001b[0m \u001b[0mchild\u001b[0m\u001b[1;33m\u001b[0m\u001b[1;33m\u001b[0m\u001b[0m\n\u001b[0m\u001b[0;32m    105\u001b[0m         \u001b[1;32myield\u001b[0m \u001b[1;32mfrom\u001b[0m \u001b[0mindex\u001b[0m\u001b[1;33m.\u001b[0m\u001b[0mvalues\u001b[0m\u001b[1;33m(\u001b[0m\u001b[1;33m)\u001b[0m\u001b[1;33m\u001b[0m\u001b[1;33m\u001b[0m\u001b[0m\n",
      "\u001b[1;32m<ipython-input-5-69805f3e1500>\u001b[0m in \u001b[0;36m__add__\u001b[1;34m(self, node)\u001b[0m\n\u001b[0;32m     68\u001b[0m     \u001b[1;32mdef\u001b[0m \u001b[0m__add__\u001b[0m\u001b[1;33m(\u001b[0m\u001b[0mself\u001b[0m\u001b[1;33m,\u001b[0m \u001b[0mnode\u001b[0m\u001b[1;33m:\u001b[0m \u001b[1;34m'Node'\u001b[0m\u001b[1;33m)\u001b[0m \u001b[1;33m->\u001b[0m \u001b[1;34m'Node'\u001b[0m\u001b[1;33m:\u001b[0m\u001b[1;33m\u001b[0m\u001b[1;33m\u001b[0m\u001b[0m\n\u001b[0;32m     69\u001b[0m         \u001b[1;32massert\u001b[0m \u001b[0misinstance\u001b[0m\u001b[1;33m(\u001b[0m\u001b[0mnode\u001b[0m\u001b[1;33m,\u001b[0m \u001b[0mself\u001b[0m\u001b[1;33m.\u001b[0m\u001b[0m__class__\u001b[0m\u001b[1;33m)\u001b[0m\u001b[1;33m\u001b[0m\u001b[1;33m\u001b[0m\u001b[0m\n\u001b[1;32m---> 70\u001b[1;33m         \u001b[0mself\u001b[0m\u001b[1;33m.\u001b[0m\u001b[0mvector\u001b[0m \u001b[1;33m=\u001b[0m \u001b[0mself\u001b[0m\u001b[1;33m.\u001b[0m\u001b[0mget_vector\u001b[0m\u001b[1;33m(\u001b[0m\u001b[1;33m)\u001b[0m \u001b[1;33m+\u001b[0m \u001b[0mnode\u001b[0m\u001b[1;33m.\u001b[0m\u001b[0mget_vector\u001b[0m\u001b[1;33m(\u001b[0m\u001b[1;33m)\u001b[0m\u001b[1;33m\u001b[0m\u001b[1;33m\u001b[0m\u001b[0m\n\u001b[0m\u001b[0;32m     71\u001b[0m         \u001b[1;32mreturn\u001b[0m \u001b[0mself\u001b[0m\u001b[1;33m\u001b[0m\u001b[1;33m\u001b[0m\u001b[0m\n\u001b[0;32m     72\u001b[0m \u001b[1;33m\u001b[0m\u001b[0m\n",
      "\u001b[1;32m<ipython-input-5-69805f3e1500>\u001b[0m in \u001b[0;36mget_vector\u001b[1;34m(self)\u001b[0m\n\u001b[0;32m     45\u001b[0m         \u001b[1;32mif\u001b[0m \u001b[0mself\u001b[0m\u001b[1;33m.\u001b[0m\u001b[0mvector\u001b[0m \u001b[1;32mis\u001b[0m \u001b[1;32mNone\u001b[0m\u001b[1;33m:\u001b[0m\u001b[1;33m\u001b[0m\u001b[1;33m\u001b[0m\u001b[0m\n\u001b[0;32m     46\u001b[0m             \u001b[0mtag\u001b[0m\u001b[1;33m:\u001b[0m \u001b[0mstr\u001b[0m \u001b[1;33m=\u001b[0m \u001b[0mself\u001b[0m\u001b[1;33m.\u001b[0m\u001b[0m__get_tag\u001b[0m\u001b[1;33m(\u001b[0m\u001b[1;33m)\u001b[0m\u001b[1;33m\u001b[0m\u001b[1;33m\u001b[0m\u001b[0m\n\u001b[1;32m---> 47\u001b[1;33m             \u001b[0mtext\u001b[0m\u001b[1;33m:\u001b[0m \u001b[0mstr\u001b[0m \u001b[1;33m=\u001b[0m \u001b[0mself\u001b[0m\u001b[1;33m.\u001b[0m\u001b[0m__get_text\u001b[0m\u001b[1;33m(\u001b[0m\u001b[1;33m)\u001b[0m\u001b[1;33m\u001b[0m\u001b[1;33m\u001b[0m\u001b[0m\n\u001b[0m\u001b[0;32m     48\u001b[0m             \u001b[0mx1\u001b[0m\u001b[1;33m:\u001b[0m \u001b[0mnp\u001b[0m\u001b[1;33m.\u001b[0m\u001b[0marray\u001b[0m \u001b[1;33m=\u001b[0m \u001b[0menglish\u001b[0m\u001b[1;33m(\u001b[0m\u001b[0mtag\u001b[0m\u001b[1;33m)\u001b[0m\u001b[1;33m.\u001b[0m\u001b[0mvector\u001b[0m\u001b[1;33m\u001b[0m\u001b[1;33m\u001b[0m\u001b[0m\n\u001b[0;32m     49\u001b[0m             \u001b[0mx2\u001b[0m\u001b[1;33m:\u001b[0m \u001b[0mnp\u001b[0m\u001b[1;33m.\u001b[0m\u001b[0marray\u001b[0m \u001b[1;33m=\u001b[0m \u001b[0menglish\u001b[0m\u001b[1;33m(\u001b[0m\u001b[0mtext\u001b[0m\u001b[1;33m)\u001b[0m\u001b[1;33m.\u001b[0m\u001b[0mvector\u001b[0m\u001b[1;33m\u001b[0m\u001b[1;33m\u001b[0m\u001b[0m\n",
      "\u001b[1;32m<ipython-input-5-69805f3e1500>\u001b[0m in \u001b[0;36m__get_text\u001b[1;34m(self)\u001b[0m\n\u001b[0;32m     31\u001b[0m \u001b[1;33m\u001b[0m\u001b[0m\n\u001b[0;32m     32\u001b[0m     \u001b[1;32mdef\u001b[0m \u001b[0m__get_text\u001b[0m\u001b[1;33m(\u001b[0m\u001b[0mself\u001b[0m\u001b[1;33m)\u001b[0m \u001b[1;33m->\u001b[0m \u001b[0mstr\u001b[0m\u001b[1;33m:\u001b[0m\u001b[1;33m\u001b[0m\u001b[1;33m\u001b[0m\u001b[0m\n\u001b[1;32m---> 33\u001b[1;33m         return ' '.join([\n\u001b[0m\u001b[0;32m     34\u001b[0m             \u001b[0mself\u001b[0m\u001b[1;33m.\u001b[0m\u001b[0melement\u001b[0m\u001b[1;33m.\u001b[0m\u001b[0mtext\u001b[0m \u001b[1;32mor\u001b[0m \u001b[1;34m''\u001b[0m\u001b[1;33m,\u001b[0m\u001b[1;33m\u001b[0m\u001b[1;33m\u001b[0m\u001b[0m\n\u001b[0;32m     35\u001b[0m             \u001b[0mself\u001b[0m\u001b[1;33m.\u001b[0m\u001b[0melement\u001b[0m\u001b[1;33m.\u001b[0m\u001b[0mtag\u001b[0m \u001b[1;32mor\u001b[0m \u001b[1;34m''\u001b[0m\u001b[1;33m,\u001b[0m\u001b[1;33m\u001b[0m\u001b[1;33m\u001b[0m\u001b[0m\n",
      "\u001b[1;31mTypeError\u001b[0m: sequence item 1: expected str instance, cython_function_or_method found"
     ]
    }
   ],
   "source": [
    "model = Html2Vec()\n",
    "model.relatives = 5\n",
    "for node in model.fit(html):\n",
    "    print(node)\n",
    "    print(node.get_vector())"
   ]
  },
  {
   "cell_type": "code",
   "execution_count": null,
   "metadata": {},
   "outputs": [],
   "source": []
  }
 ],
 "metadata": {
  "kernelspec": {
   "display_name": "Python 3",
   "language": "python",
   "name": "python3"
  },
  "language_info": {
   "codemirror_mode": {
    "name": "ipython",
    "version": 3
   },
   "file_extension": ".py",
   "mimetype": "text/x-python",
   "name": "python",
   "nbconvert_exporter": "python",
   "pygments_lexer": "ipython3",
   "version": "3.8.5"
  }
 },
 "nbformat": 4,
 "nbformat_minor": 4
}
